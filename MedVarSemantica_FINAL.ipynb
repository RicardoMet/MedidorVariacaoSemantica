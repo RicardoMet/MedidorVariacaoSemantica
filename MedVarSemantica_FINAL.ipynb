{
  "nbformat": 4,
  "nbformat_minor": 0,
  "metadata": {
    "colab": {
      "provenance": []
    },
    "kernelspec": {
      "name": "python3",
      "display_name": "Python 3"
    },
    "language_info": {
      "name": "python"
    }
  },
  "cells": [
    {
      "cell_type": "code",
      "source": [
        "# =========================\n",
        "# 🔧 Dependências e setup\n",
        "# =========================\n",
        "from google.colab import drive\n",
        "import pandas as pd\n",
        "from collections import defaultdict\n",
        "from bs4 import BeautifulSoup\n",
        "import re\n",
        "import spacy\n",
        "import nltk\n",
        "from nltk.corpus import wordnet as wn\n",
        "from datetime import datetime\n",
        "\n",
        "nltk.download('wordnet')\n",
        "nltk.download('omw-1.4')\n",
        "\n",
        "!pip install -q spacy openpyxl\n",
        "!python -m spacy download pt_core_news_lg\n",
        "\n",
        "nlp = spacy.load(\"pt_core_news_lg\")"
      ],
      "metadata": {
        "id": "a7FRY46b5t9-",
        "colab": {
          "base_uri": "https://localhost:8080/"
        },
        "outputId": "9c5e070f-94eb-4a53-e531-d494195e48af"
      },
      "execution_count": 1,
      "outputs": [
        {
          "output_type": "stream",
          "name": "stderr",
          "text": [
            "[nltk_data] Downloading package wordnet to /root/nltk_data...\n",
            "[nltk_data] Downloading package omw-1.4 to /root/nltk_data...\n"
          ]
        },
        {
          "output_type": "stream",
          "name": "stdout",
          "text": [
            "Collecting pt-core-news-lg==3.8.0\n",
            "  Downloading https://github.com/explosion/spacy-models/releases/download/pt_core_news_lg-3.8.0/pt_core_news_lg-3.8.0-py3-none-any.whl (568.2 MB)\n",
            "\u001b[2K     \u001b[90m━━━━━━━━━━━━━━━━━━━━━━━━━━━━━━━━━━━━━━━\u001b[0m \u001b[32m568.2/568.2 MB\u001b[0m \u001b[31m3.4 MB/s\u001b[0m eta \u001b[36m0:00:00\u001b[0m\n",
            "\u001b[?25hInstalling collected packages: pt-core-news-lg\n",
            "Successfully installed pt-core-news-lg-3.8.0\n",
            "\u001b[38;5;2m✔ Download and installation successful\u001b[0m\n",
            "You can now load the package via spacy.load('pt_core_news_lg')\n",
            "\u001b[38;5;3m⚠ Restart to reload dependencies\u001b[0m\n",
            "If you are in a Jupyter or Colab notebook, you may need to restart Python in\n",
            "order to load all the package's dependencies. You can do this by selecting the\n",
            "'Restart kernel' or 'Restart runtime' option.\n"
          ]
        }
      ]
    },
    {
      "cell_type": "code",
      "source": [
        "# ======================\n",
        "# 📁 Montar Google Drive\n",
        "# ======================\n",
        "drive.mount('/content/drive/')\n",
        "file = \"/content/drive/MyDrive/Constructions_concordances/SVO_7000.xml\""
      ],
      "metadata": {
        "id": "IsGkHD_w5u3m",
        "colab": {
          "base_uri": "https://localhost:8080/"
        },
        "outputId": "ffbe3fcc-5f3c-4069-941c-beea8a921df6"
      },
      "execution_count": 2,
      "outputs": [
        {
          "output_type": "stream",
          "name": "stdout",
          "text": [
            "Mounted at /content/drive/\n"
          ]
        }
      ]
    },
    {
      "cell_type": "code",
      "source": [
        "# ======================\n",
        "# Escolher a construção\n",
        "# ======================\n",
        "tipo_construcao = \"svo\"  # 'svo', 'n_adj', 'adj_n'"
      ],
      "metadata": {
        "id": "AD-xXWIC5u1H"
      },
      "execution_count": 3,
      "outputs": []
    },
    {
      "cell_type": "code",
      "source": [
        "# =============================\n",
        "# 🧹 Funções de pré-processamento\n",
        "# =============================\n",
        "def limpar_kwic(texto_kwic):\n",
        "    return re.sub(r\"/[a-z]+\", \"\", texto_kwic)\n",
        "\n",
        "with open(file, \"r\", encoding=\"utf-8\") as f:\n",
        "    xml = f.read()\n",
        "\n",
        "soup = BeautifulSoup(xml, \"xml\")\n",
        "kwics = soup.find_all(\"kwic\")\n",
        "kwic_pairs = [(limpar_kwic(k.text.strip()), k.text.strip()) for k in kwics]\n",
        "\n",
        "frases_limpas = [pair[0] for pair in kwic_pairs]\n",
        "frases_originais = [pair[1] for pair in kwic_pairs]"
      ],
      "metadata": {
        "id": "oNRCi0lJ5uuJ"
      },
      "execution_count": 4,
      "outputs": []
    },
    {
      "cell_type": "code",
      "source": [
        "# ===================================\n",
        "# 📐 Funções de extração sintática\n",
        "# ===================================\n",
        "def extrair_svo(frase):\n",
        "    doc = nlp(frase)\n",
        "    sujeito = verbo = objeto = None\n",
        "    for token in doc:\n",
        "        if token.dep_ == \"ROOT\" and token.pos_ == \"VERB\":\n",
        "            verbo = token.lemma_\n",
        "        elif token.dep_ == \"nsubj\":\n",
        "            sujeito = token.text\n",
        "        elif token.dep_ in {\"obj\", \"dobj\", \"obl\", \"attr\"}:\n",
        "            objeto = token.lemma_\n",
        "    if verbo and (sujeito or objeto):\n",
        "        return {\n",
        "            \"frase_limpa\": frase,\n",
        "            \"sujeito\": sujeito if sujeito else \"\",\n",
        "            \"verbo\": verbo,\n",
        "            \"objeto\": objeto if objeto else \"\"\n",
        "        }\n",
        "    return None\n",
        "\n",
        "def extrair_n_adj(frase):\n",
        "    doc = nlp(frase)\n",
        "    for token in doc:\n",
        "        if token.pos_ == \"ADJ\" and token.head.pos_ == \"NOUN\":\n",
        "            nome = token.head.lemma_\n",
        "            adj = token.lemma_\n",
        "            return {\"frase_limpa\": frase, \"nome\": nome, \"adjetivo\": adj}\n",
        "    return None\n",
        "\n",
        "def extrair_adj_n(frase):\n",
        "    doc = nlp(frase)\n",
        "    for token in doc:\n",
        "        if token.pos_ == \"ADJ\" and token.head.pos_ == \"NOUN\" and token.i < token.head.i:\n",
        "            return {\"frase_limpa\": frase, \"adjetivo\": token.lemma_, \"nome\": token.head.lemma_}\n",
        "    for i in range(len(doc) - 1):\n",
        "        if doc[i].pos_ == \"ADJ\" and doc[i + 1].pos_ == \"NOUN\":\n",
        "            return {\"frase_limpa\": frase, \"adjetivo\": doc[i].lemma_, \"nome\": doc[i + 1].lemma_}\n",
        "    return None\n"
      ],
      "metadata": {
        "id": "98ionmDo5urk"
      },
      "execution_count": 5,
      "outputs": []
    },
    {
      "cell_type": "code",
      "source": [
        "# ===============================\n",
        "# 🧠 Domínios WordNet + Mapeamento\n",
        "# ===============================\n",
        "mapeamento_dominios = {\n",
        "    'noun.person': 'pessoa',\n",
        "    'noun.artifact': 'objeto',\n",
        "    'noun.act': 'evento',\n",
        "    'noun.event': 'evento',\n",
        "    'noun.group': 'organização',\n",
        "    'noun.location': 'lugar',\n",
        "    'noun.communication': 'comunicação',\n",
        "    'noun.state': 'estado',\n",
        "    'noun.cognition': 'conhecimento',\n",
        "    'noun.quantity': 'quantidade',\n",
        "    'noun.attribute': 'característica',\n",
        "    'noun.time': 'tempo',\n",
        "    'noun.animal': 'animal',\n",
        "    'noun.body': 'corpo',\n",
        "    'noun.food': 'comida',\n",
        "    'noun.substance': 'matéria',\n",
        "    'noun.object': 'objeto',\n",
        "    'noun.feeling': 'emoção',\n",
        "    'noun.phenomenon': 'fenómeno',\n",
        "}\n",
        "\n",
        "def obter_dominios(word, lang='por'):\n",
        "    synsets = wn.synsets(word, lang=lang)\n",
        "    if not synsets:\n",
        "        return \"desconhecido\", \"desconhecido\"\n",
        "    primeiro = synsets[0]\n",
        "    subdominio = primeiro.lexname()\n",
        "    dominio_mapeado = mapeamento_dominios.get(subdominio, \"outro\")\n",
        "    return dominio_mapeado, subdominio\n"
      ],
      "metadata": {
        "id": "xPiNTA0F5upc"
      },
      "execution_count": 6,
      "outputs": []
    },
    {
      "cell_type": "code",
      "source": [
        "# ========================================\n",
        "# 🔄 Processamento das frases e domínios\n",
        "# ========================================\n",
        "dados = []\n",
        "for frase_limpa, frase_original in kwic_pairs:\n",
        "    if tipo_construcao == \"svo\":\n",
        "        extraido = extrair_svo(frase_limpa)\n",
        "    elif tipo_construcao == \"n_adj\":\n",
        "        extraido = extrair_n_adj(frase_limpa)\n",
        "    elif tipo_construcao == \"adj_n\":\n",
        "        extraido = extrair_adj_n(frase_limpa)\n",
        "    else:\n",
        "        extraido = None\n",
        "    if extraido:\n",
        "        extraido[\"frase_original\"] = frase_original\n",
        "        extraido[\"frase_limpa\"] = frase_limpa\n",
        "        dados.append(extraido)\n",
        "\n",
        "print(f\"Número de frases extraídas: {len(dados)}\")\n",
        "\n",
        "for entrada in dados:\n",
        "    if tipo_construcao == \"svo\":\n",
        "        entrada[\"dominio\"], entrada[\"subdominio\"] = obter_dominios(entrada[\"objeto\"])\n",
        "        entrada[\"construcao\"] = f\"{entrada['verbo']} X\"\n",
        "    elif tipo_construcao == \"n_adj\":\n",
        "        entrada[\"dominio\"], entrada[\"subdominio\"] = obter_dominios(entrada[\"nome\"])\n",
        "        entrada[\"construcao\"] = f\"{entrada['nome']} + {entrada['adjetivo']}\"\n",
        "    elif tipo_construcao == \"adj_n\":\n",
        "        entrada[\"dominio\"], entrada[\"subdominio\"] = obter_dominios(entrada[\"nome\"])\n",
        "        entrada[\"construcao\"] = f\"{entrada['adjetivo']} {entrada['nome']}\"\n",
        "\n",
        "df = pd.DataFrame(dados)\n",
        "\n",
        "# ✅ NORMALIZAÇÃO\n",
        "if tipo_construcao in [\"n_adj\", \"adj_n\"]:\n",
        "    df[\"nome\"] = df[\"nome\"].str.lower()\n",
        "    df[\"adjetivo\"] = df[\"adjetivo\"].str.lower()\n",
        "\n",
        "if tipo_construcao == \"svo\":\n",
        "    verbos_leves = {\"fazer\", \"ter\", \"dar\", \"estar\", \"haver\", \"ficar\", \"pôr\", \"levar\", \"deixar\", \"manter\"}\n",
        "    df = df[~df[\"verbo\"].isin(verbos_leves)].copy()\n"
      ],
      "metadata": {
        "id": "v8-BoRdA5ukN",
        "colab": {
          "base_uri": "https://localhost:8080/"
        },
        "outputId": "feebb447-f018-4a4e-e39b-2bd2ee4c33dc"
      },
      "execution_count": 7,
      "outputs": [
        {
          "output_type": "stream",
          "name": "stdout",
          "text": [
            "Número de frases extraídas: 4455\n"
          ]
        }
      ]
    },
    {
      "cell_type": "code",
      "source": [
        "# ==========================================\n",
        "# 📊 Análise de variabilidade semântica\n",
        "# ==========================================\n",
        "if tipo_construcao == \"svo\":\n",
        "    # Variabilidade verbo → objeto\n",
        "    agrupados_verbo_obj = df.groupby(\"verbo\")[\"dominio\"].apply(list)\n",
        "    df_var_verbo_obj = agrupados_verbo_obj.apply(lambda x: pd.Series({\n",
        "        \"variabilidade_verbo_obj\": len(set(x)),\n",
        "        \"dominios_obj\": \", \".join(sorted(set(x)))\n",
        "    })).reset_index()\n",
        "\n",
        "    # Variabilidade verbo → sujeito\n",
        "    df['dominio_sujeito'], df['subdominio_sujeito'] = zip(*df['sujeito'].apply(obter_dominios) if \"sujeito\" in df else [(\"desconhecido\", \"desconhecido\")] * len(df))\n",
        "    agrupados_verbo_suj = df.groupby(\"verbo\")[\"dominio_sujeito\"].apply(list)\n",
        "    df_var_verbo_suj = agrupados_verbo_suj.apply(lambda x: pd.Series({\n",
        "        \"variabilidade_verbo_suj\": len(set(x)),\n",
        "        \"dominios_suj\": \", \".join(sorted(set(x)))\n",
        "    })).reset_index()\n",
        "\n",
        "\n",
        "elif tipo_construcao == \"adj_n\":\n",
        "    agrupados = df.groupby(\"adjetivo\")[\"dominio\"].apply(list)\n",
        "    df_var = agrupados.apply(lambda x: pd.Series({\n",
        "        \"variabilidade_semântica\": len(set(x)),\n",
        "        \"dominios\": \", \".join(sorted(set(x)))\n",
        "    })).reset_index()\n",
        "    df_var = df_var.rename(columns={\"adjetivo\": \"construcao\"})\n",
        "\n",
        "elif tipo_construcao == \"n_adj\":\n",
        "    df['dominio_adjetivo'], df['subdominio_adjetivo'] = zip(*df['adjetivo'].apply(obter_dominios))\n",
        "\n",
        "    agrupados_nome = df.groupby(\"nome\")[\"dominio_adjetivo\"].apply(list)\n",
        "    df_var_nome = agrupados_nome.apply(lambda x: pd.Series({\n",
        "        \"variabilidade_nome\": len(set(x)),\n",
        "        \"dominios\": \", \".join(sorted(set(x)))\n",
        "    })).reset_index()\n",
        "\n",
        "    agrupados_adj = df.groupby(\"adjetivo\")[\"dominio\"].apply(list)\n",
        "    df_var_adj = agrupados_adj.apply(lambda x: pd.Series({\n",
        "        \"variabilidade_adjetivo\": len(set(x)),\n",
        "        \"dominios\": \", \".join(sorted(set(x)))\n",
        "    })).reset_index()\n",
        "\n"
      ],
      "metadata": {
        "id": "Ig5Rg4od5uhA"
      },
      "execution_count": 8,
      "outputs": []
    },
    {
      "cell_type": "code",
      "source": [
        "# ===============================\n",
        "# 📋 Exibir exemplos e estatísticas\n",
        "# ===============================\n",
        "print(f\"\\n📊 Top 10 construções ({tipo_construcao}):\")\n",
        "\n",
        "if tipo_construcao == \"n_adj\":\n",
        "    df_var_nome_sorted = df_var_nome.sort_values(by=\"variabilidade_nome\", ascending=False)\n",
        "    df_var_adj_sorted = df_var_adj.sort_values(by=\"variabilidade_adjetivo\", ascending=False)\n",
        "\n",
        "    print(\"\\n🔸 Variabilidade por **nome**:\")\n",
        "    print(df_var_nome_sorted.head(10))\n",
        "\n",
        "    print(\"\\n🔸 Variabilidade por **adjetivo**:\")\n",
        "    print(df_var_adj_sorted.head(10))\n",
        "\n",
        "    print(f\"\\n📌 Exemplos para os 5 nomes mais variáveis:\")\n",
        "    for nome in df_var_nome_sorted.head(5)[\"nome\"]:\n",
        "        print(f\"\\n🔹 Nome: {nome.capitalize()}\")\n",
        "        frases_filtradas = df[df[\"nome\"] == nome].head(4)\n",
        "        for _, row in frases_filtradas.iterrows():\n",
        "            print(f\" - Frase: {row['frase_limpa']} | Adjetivo: {row['adjetivo']} | Domínio: {row['dominio_adjetivo']} | Subdomínio: {row['subdominio_adjetivo']}\")\n",
        "\n",
        "    print(f\"\\n📌 Exemplos para os 5 adjetivos mais variáveis:\")\n",
        "    for adj in df_var_adj_sorted.head(5)[\"adjetivo\"]:\n",
        "        print(f\"\\n🔹 Adjetivo: {adj}\")\n",
        "        frases_filtradas = df[df[\"adjetivo\"] == adj].head(4)\n",
        "        for _, row in frases_filtradas.iterrows():\n",
        "            print(f\" - Frase: {row['frase_limpa']} | Nome: {row['nome']} | Domínio: {row['dominio']} | Subdomínio: {row['subdominio']}\")\n",
        "\n",
        "elif tipo_construcao == \"svo\":\n",
        "    df_var_obj_sorted = df_var_verbo_obj.sort_values(by=\"variabilidade_verbo_obj\", ascending=False)\n",
        "    df_var_suj_sorted = df_var_verbo_suj.sort_values(by=\"variabilidade_verbo_suj\", ascending=False)\n",
        "\n",
        "    print(\"\\n🔸 Variabilidade verbo → objeto:\")\n",
        "    print(df_var_obj_sorted.head(10))\n",
        "\n",
        "    print(\"\\n🔸 Variabilidade verbo → sujeito:\")\n",
        "    print(df_var_suj_sorted.head(10))\n",
        "\n",
        "    print(f\"\\n📌 Exemplos para os 5 verbos mais variáveis (objeto):\")\n",
        "    for verbo in df_var_obj_sorted.head(5)[\"verbo\"]:\n",
        "        print(f\"\\n🔹 Verbo: {verbo}\")\n",
        "        frases_filtradas = df[df[\"verbo\"] == verbo].head(4)\n",
        "        for _, row in frases_filtradas.iterrows():\n",
        "            print(f\" - Frase: {row['frase_limpa']} | Objeto: {row['objeto']} | Domínio_obj: {row['dominio']} | Subdomínio_obj: {row['subdominio']}\")\n",
        "\n",
        "    print(f\"\\n📌 Exemplos para os 5 verbos mais variáveis (sujeito):\")\n",
        "    for verbo in df_var_suj_sorted.head(5)[\"verbo\"]:\n",
        "        print(f\"\\n🔹 Verbo: {verbo}\")\n",
        "        frases_filtradas = df[df[\"verbo\"] == verbo].head(4)\n",
        "        for _, row in frases_filtradas.iterrows():\n",
        "            print(f\" - Frase: {row['frase_limpa']} | Sujeito: {row['sujeito']} | Domínio_suj: {row['dominio_sujeito']} | Subdomínio_suj: {row['subdominio_sujeito']}\")\n",
        "\n",
        "\n",
        "elif tipo_construcao == \"adj_n\":\n",
        "    df_var_sorted = df_var.sort_values(by=\"variabilidade_semântica\", ascending=False)\n",
        "\n",
        "    print(df_var_sorted.head(10))\n",
        "    print(f\"\\n📌 Exemplos para os 5 adjetivos mais variáveis:\")\n",
        "    for adj in df_var_sorted.head(5)[\"construcao\"].str.split().str[0]:\n",
        "        print(f\"\\n🔹 Adjetivo: {adj}\")\n",
        "        frases_filtradas = df[df[\"adjetivo\"] == adj].head(4)\n",
        "        for _, row in frases_filtradas.iterrows():\n",
        "            print(f\" - Frase: {row['frase_limpa']} | Nome: {row['nome']} | Domínio: {row['dominio']} | Subdomínio: {row['subdominio']}\")\n",
        "\n"
      ],
      "metadata": {
        "colab": {
          "base_uri": "https://localhost:8080/"
        },
        "id": "LqoDkAj35uYf",
        "outputId": "a5743ea3-4310-404f-ddff-0172e750927f"
      },
      "execution_count": 9,
      "outputs": [
        {
          "output_type": "stream",
          "name": "stdout",
          "text": [
            "\n",
            "📊 Top 10 construções (svo):\n",
            "\n",
            "🔸 Variabilidade verbo → objeto:\n",
            "            verbo  variabilidade_verbo_obj  \\\n",
            "179     chamar se                       12   \n",
            "592        ganhar                       12   \n",
            "751       parecer                       11   \n",
            "90     apresentar                       11   \n",
            "318  denominar se                       10   \n",
            "178        chamar                       10   \n",
            "826      produzir                       10   \n",
            "807       possuir                       10   \n",
            "437     encontrar                       10   \n",
            "759        passar                       10   \n",
            "\n",
            "                                          dominios_obj  \n",
            "179  característica, comida, conhecimento, corpo, d...  \n",
            "592  animal, característica, comida, comunicação, c...  \n",
            "751  animal, característica, comida, comunicação, d...  \n",
            "90   característica, comunicação, conhecimento, des...  \n",
            "318  animal, característica, conhecimento, corpo, d...  \n",
            "178  animal, comunicação, conhecimento, desconhecid...  \n",
            "826  animal, característica, comunicação, desconhec...  \n",
            "807  característica, comida, comunicação, conhecime...  \n",
            "437  animal, característica, comunicação, conhecime...  \n",
            "759  característica, comunicação, desconhecido, emo...  \n",
            "\n",
            "🔸 Variabilidade verbo → sujeito:\n",
            "           verbo  variabilidade_verbo_suj  \\\n",
            "90    apresentar                       14   \n",
            "1008       tomar                       14   \n",
            "592       ganhar                       13   \n",
            "1017   tornar se                       12   \n",
            "840     provocar                       12   \n",
            "179    chamar se                       12   \n",
            "751      parecer                       12   \n",
            "178       chamar                       11   \n",
            "22         abrir                       11   \n",
            "277        criar                       10   \n",
            "\n",
            "                                           dominios_suj  \n",
            "90    animal, característica, comida, conhecimento, ...  \n",
            "1008  animal, característica, comunicação, conhecime...  \n",
            "592   animal, característica, comida, comunicação, c...  \n",
            "1017  característica, comida, comunicação, conhecime...  \n",
            "840   característica, comunicação, conhecimento, cor...  \n",
            "179   animal, característica, comunicação, conhecime...  \n",
            "751   animal, característica, comida, comunicação, c...  \n",
            "178   característica, comunicação, conhecimento, des...  \n",
            "22    animal, característica, comunicação, conhecime...  \n",
            "277   animal, desconhecido, estado, evento, fenómeno...  \n",
            "\n",
            "📌 Exemplos para os 5 verbos mais variáveis (objeto):\n",
            "\n",
            "🔹 Verbo: chamar se\n",
            " - Frase: p chamam-se elementos | Objeto:  | Domínio_obj: desconhecido | Subdomínio_obj: desconhecido\n",
            " - Frase: f chamam-se elementos | Objeto:  | Domínio_obj: desconhecido | Subdomínio_obj: desconhecido\n",
            " - Frase: energia chama-se afinidade | Objeto: afinidade | Domínio_obj: característica | Subdomínio_obj: noun.attribute\n",
            " - Frase: tipo chama-se ligação | Objeto: ligação | Domínio_obj: evento | Subdomínio_obj: noun.act\n",
            "\n",
            "🔹 Verbo: ganhar\n",
            " - Frase: gesso ganhar presa | Objeto: presa | Domínio_obj: animal | Subdomínio_obj: noun.animal\n",
            " - Frase: sistema ganha energia | Objeto: energia | Domínio_obj: característica | Subdomínio_obj: noun.attribute\n",
            " - Frase: pingos ganha cor | Objeto: cor | Domínio_obj: objeto | Subdomínio_obj: noun.artifact\n",
            " - Frase: pingos ganha ondas | Objeto: onda | Domínio_obj: evento | Subdomínio_obj: noun.act\n",
            "\n",
            "🔹 Verbo: parecer\n",
            " - Frase: ime parece folha | Objeto:  | Domínio_obj: desconhecido | Subdomínio_obj: desconhecido\n",
            " - Frase: noivas parecem lírios | Objeto: lírio | Domínio_obj: outro | Subdomínio_obj: noun.plant\n",
            " - Frase: mar parece lava | Objeto:  | Domínio_obj: desconhecido | Subdomínio_obj: desconhecido\n",
            " - Frase: chuva parece visco | Objeto:  | Domínio_obj: desconhecido | Subdomínio_obj: desconhecido\n",
            "\n",
            "🔹 Verbo: apresentar\n",
            " - Frase: grupo apresentam êmbolo | Objeto: êmbolo | Domínio_obj: estado | Subdomínio_obj: noun.state\n",
            " - Frase: grupo apresentam comportamento | Objeto: comportamento | Domínio_obj: evento | Subdomínio_obj: noun.act\n",
            " - Frase: grafite apresenta brilho | Objeto: brilho | Domínio_obj: característica | Subdomínio_obj: noun.attribute\n",
            " - Frase: água apresentam transparência | Objeto: transparência | Domínio_obj: objeto | Subdomínio_obj: noun.artifact\n",
            "\n",
            "🔹 Verbo: denominar se\n",
            " - Frase: comparação denomina-se unidade | Objeto: unidade | Domínio_obj: outro | Subdomínio_obj: noun.Tops\n",
            " - Frase: representação denomina-se pica | Objeto: pica | Domínio_obj: animal | Subdomínio_obj: noun.animal\n",
            " - Frase: fenómeno denomina-se difusão | Objeto: difusão | Domínio_obj: característica | Subdomínio_obj: noun.attribute\n",
            " - Frase: rectângulos denomina-se linha | Objeto: linha | Domínio_obj: objeto | Subdomínio_obj: noun.artifact\n",
            "\n",
            "📌 Exemplos para os 5 verbos mais variáveis (sujeito):\n",
            "\n",
            "🔹 Verbo: apresentar\n",
            " - Frase: grupo apresentam êmbolo | Sujeito: grupo | Domínio_suj: outro | Subdomínio_suj: noun.Tops\n",
            " - Frase: grupo apresentam comportamento | Sujeito: grupo | Domínio_suj: outro | Subdomínio_suj: noun.Tops\n",
            " - Frase: grafite apresenta brilho | Sujeito: grafite | Domínio_suj: objeto | Subdomínio_suj: noun.artifact\n",
            " - Frase: água apresentam transparência | Sujeito: água | Domínio_suj: comida | Subdomínio_suj: noun.food\n",
            "\n",
            "🔹 Verbo: tomar\n",
            " - Frase: corredor toma posição | Sujeito: corredor | Domínio_suj: animal | Subdomínio_suj: noun.animal\n",
            " - Frase: nação tome consciência | Sujeito: nação | Domínio_suj: organização | Subdomínio_suj: noun.group\n",
            " - Frase: miúdos tomarem banho | Sujeito: miúdos | Domínio_suj: desconhecido | Subdomínio_suj: desconhecido\n",
            " - Frase: rendeiro toma posse | Sujeito: rendeiro | Domínio_suj: desconhecido | Subdomínio_suj: desconhecido\n",
            "\n",
            "🔹 Verbo: ganhar\n",
            " - Frase: gesso ganhar presa | Sujeito: gesso | Domínio_suj: objeto | Subdomínio_suj: noun.artifact\n",
            " - Frase: sistema ganha energia | Sujeito: sistema | Domínio_suj: objeto | Subdomínio_suj: noun.artifact\n",
            " - Frase: pingos ganha cor | Sujeito: pingos | Domínio_suj: desconhecido | Subdomínio_suj: desconhecido\n",
            " - Frase: pingos ganha ondas | Sujeito: pingos | Domínio_suj: desconhecido | Subdomínio_suj: desconhecido\n",
            "\n",
            "🔹 Verbo: tornar se\n",
            " - Frase: rusticidade tornam-se alvo | Sujeito: rusticidade | Domínio_suj: desconhecido | Subdomínio_suj: desconhecido\n",
            " - Frase: rendimento torna-se mesquinho | Sujeito: rendimento | Domínio_suj: evento | Subdomínio_suj: noun.act\n",
            " - Frase: crianças tornaram-se consumidores | Sujeito: crianças | Domínio_suj: desconhecido | Subdomínio_suj: desconhecido\n",
            " - Frase: descrição tornam-se leis | Sujeito: descrição | Domínio_suj: conhecimento | Subdomínio_suj: noun.cognition\n",
            "\n",
            "🔹 Verbo: provocar\n",
            " - Frase: forças provocam deformações | Sujeito: forças | Domínio_suj: desconhecido | Subdomínio_suj: desconhecido\n",
            " - Frase: desconhecimento provocar prejuízos | Sujeito: desconhecimento | Domínio_suj: desconhecido | Subdomínio_suj: desconhecido\n",
            " - Frase: compostos provocam coloração | Sujeito: compostos | Domínio_suj: desconhecido | Subdomínio_suj: desconhecido\n",
            " - Frase: espaço provoca transformações | Sujeito: espaço | Domínio_suj: comunicação | Subdomínio_suj: noun.communication\n"
          ]
        }
      ]
    },
    {
      "cell_type": "code",
      "source": [
        "# ===============================\n",
        "# 📈 Estatísticas gerais\n",
        "# ===============================\n",
        "total = len(df)\n",
        "desconhecidos = df[df['dominio'] == \"desconhecido\"].shape[0]\n",
        "percentagem = 100 * (total - desconhecidos) / total if total else 0\n",
        "print(f\"\\n📊 Percentagem de Domínios Atribuídos:\")\n",
        "print(f\" - Atribuídos: {percentagem:.2f}%\")\n",
        "print(f\" - 'Desconhecido': {100 - percentagem:.2f}%\")"
      ],
      "metadata": {
        "colab": {
          "base_uri": "https://localhost:8080/"
        },
        "id": "cZpzOG-A6GoW",
        "outputId": "24e09c26-ce10-4d5b-a020-c6d8bf763b7f"
      },
      "execution_count": 10,
      "outputs": [
        {
          "output_type": "stream",
          "name": "stdout",
          "text": [
            "\n",
            "📊 Percentagem de Domínios Atribuídos:\n",
            " - Atribuídos: 78.76%\n",
            " - 'Desconhecido': 21.24%\n"
          ]
        }
      ]
    },
    {
      "cell_type": "code",
      "execution_count": 11,
      "metadata": {
        "colab": {
          "base_uri": "https://localhost:8080/"
        },
        "collapsed": true,
        "id": "M7WMAn1m1hmI",
        "outputId": "2fc05dc5-bbc7-4152-c5e1-5e5473c93178"
      },
      "outputs": [
        {
          "output_type": "stream",
          "name": "stdout",
          "text": [
            "\n",
            "📁 Ficheiro exportado com sucesso: /content/drive/MyDrive/Constructions_concordances/output_variabilidade_svo_20250908_092607.xlsx\n"
          ]
        }
      ],
      "source": [
        "# ===============================\n",
        "# 📤 Exportar para Excel na Drive\n",
        "# ===============================\n",
        "\n",
        "# Criar nome do ficheiro com tipo da construção e data/hora\n",
        "timestamp = datetime.now().strftime(\"%Y%m%d_%H%M%S\")\n",
        "output_path = f\"/content/drive/MyDrive/Constructions_concordances/output_variabilidade_{tipo_construcao}_{timestamp}.xlsx\"\n",
        "\n",
        "with pd.ExcelWriter(output_path, engine='openpyxl') as writer:\n",
        "    df.to_excel(writer, index=False, sheet_name=\"Construcoes\")\n",
        "\n",
        "    if tipo_construcao == \"svo\":\n",
        "        df_var_obj_sorted = df_var_verbo_obj.sort_values(by=\"variabilidade_verbo_obj\", ascending=False)\n",
        "        df_var_suj_sorted = df_var_verbo_suj.sort_values(by=\"variabilidade_verbo_suj\", ascending=False)\n",
        "        df_var_obj_sorted.to_excel(writer, index=False, sheet_name=\"Variabilidade_verbo_objeto\")\n",
        "        df_var_suj_sorted.to_excel(writer, index=False, sheet_name=\"Variabilidade_verbo_sujeito\")\n",
        "\n",
        "\n",
        "    elif tipo_construcao == \"n_adj\":\n",
        "        df_var_nome_sorted = df_var_nome.sort_values(by=\"variabilidade_nome\", ascending=False)\n",
        "        df_var_adj_sorted = df_var_adj.sort_values(by=\"variabilidade_adjetivo\", ascending=False)\n",
        "\n",
        "        df_var_nome_sorted.to_excel(writer, index=False, sheet_name=\"Variabilidade_nome\")\n",
        "        df_var_adj_sorted.to_excel(writer, index=False, sheet_name=\"Variabilidade_adjetivo\")\n",
        "\n",
        "    elif tipo_construcao == \"adj_n\":\n",
        "        df_var_sorted = df_var.sort_values(by=\"variabilidade_semântica\", ascending=False)\n",
        "        df_var_sorted.to_excel(writer, index=False, sheet_name=\"Variabilidade\")\n",
        "\n",
        "print(f\"\\n📁 Ficheiro exportado com sucesso: {output_path}\")\n",
        "\n"
      ]
    }
  ]
}